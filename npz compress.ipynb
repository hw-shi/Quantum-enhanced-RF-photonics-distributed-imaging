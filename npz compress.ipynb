{
 "cells": [
  {
   "cell_type": "code",
   "execution_count": 1,
   "id": "28aa12ef",
   "metadata": {},
   "outputs": [],
   "source": [
    "%matplotlib inline\n",
    "import scienceplots\n",
    "import numpy as np\n",
    "import matplotlib.pyplot as plt\n",
    "from scipy.signal import convolve2d, convolve\n",
    "from skimage import color, data, restoration, exposure\n",
    "from skimage import io\n",
    "plt.rcParams['figure.figsize'] = [20, 10]\n",
    "plt.rcParams.update({'font.size': 16})\n",
    "\n"
   ]
  },
  {
   "cell_type": "code",
   "execution_count": 3,
   "id": "0d35c568",
   "metadata": {},
   "outputs": [],
   "source": [
    "photon=100\n",
    "Nbprime=0.1\n",
    "\n",
    "filenameString='data/test_binary_coh_quantum_bp_dmSNRcontour_adaptiveGrid_USAF1951_photon=%i_Nbprime=%f'%(photon,Nbprime)\n",
    "\n",
    "\n",
    "filename=filenameString+'.npz'\n",
    "Glist=np.load(filename)['Glist']\n",
    "psnr=np.load(filename)['psnr']\n",
    "gr_list=np.zeros((psnr.shape[0],psnr.shape[1],201,201))\n",
    "f_bp_list=np.zeros((psnr.shape[0],psnr.shape[1],201,201))\n",
    "gr_list[0::2,0::4]=np.load(filename)['gr_list'][0::2,0::4]\n",
    "f_bp_list[0::2,0::4]=np.load(filename)['f_bp_list'][0::2,0::4]\n",
    "metric_list=np.load(filename)['metric_list']\n",
    "Ypixelwidth_list=np.load(filename)['Ypixelwidth_list']\n",
    "dist_pixel=np.load(filename)['dist_pixel']\n",
    "d_list=dist_pixel*Ypixelwidth_list\n",
    "\n",
    "range_list=np.load(filename)['r']\n",
    "\n",
    "np.savez_compressed('data/test_binary_coh_quantum_bp_dmSNRcontour_adaptiveGrid_USAF1951_photon=%i_Nbprime=%f_compressed.npz'%(photon,Nbprime), psnr=psnr,Glist=Glist,\n",
    "          gr_list=gr_list, f_bp_list=f_bp_list, metric_list=metric_list, Ypixelwidth_list=Ypixelwidth_list, r=range_list, dist_pixel=dist_pixel)\n",
    "\n",
    "\n"
   ]
  },
  {
   "cell_type": "code",
   "execution_count": null,
   "id": "ba002391",
   "metadata": {},
   "outputs": [],
   "source": []
  }
 ],
 "metadata": {
  "kernelspec": {
   "display_name": "base",
   "language": "python",
   "name": "python3"
  },
  "language_info": {
   "codemirror_mode": {
    "name": "ipython",
    "version": 3
   },
   "file_extension": ".py",
   "mimetype": "text/x-python",
   "name": "python",
   "nbconvert_exporter": "python",
   "pygments_lexer": "ipython3",
   "version": "3.12.4"
  }
 },
 "nbformat": 4,
 "nbformat_minor": 5
}
